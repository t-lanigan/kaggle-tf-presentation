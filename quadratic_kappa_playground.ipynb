{
 "cells": [
  {
   "cell_type": "markdown",
   "metadata": {},
   "source": [
    "## Quadratic Kappa Playground\n",
    "This is just a notebook used to play around with values to help gain an understanding of the Quadratic Kappa. It is also recommended to check out the following links:\n",
    "\n",
    "* [Cohen's Kappa](https://en.wikipedia.org/wiki/Cohen%27s_kappa)\n",
    "* [Cohen's Kappa Calculator](http://vassarstats.net/kappa.html)\n",
    "* [Weighted Cohen's Kappa](http://www.real-statistics.com/reliability/weighted-cohens-kappa/)\n",
    "\n",
    "Code is taken from the repository of the Kaggle team 'O_o' solution to the Diabetic Retinoscopy Competition. "
   ]
  },
  {
   "cell_type": "code",
   "execution_count": 34,
   "metadata": {
    "collapsed": true
   },
   "outputs": [],
   "source": [
    "import quadratic_weighted_kappa as qwk"
   ]
  },
  {
   "cell_type": "code",
   "execution_count": 57,
   "metadata": {
    "collapsed": false
   },
   "outputs": [
    {
     "name": "stdout",
     "output_type": "stream",
     "text": [
      "Quadratic Weight Kappa is 1.00\n",
      "\n",
      "Histogram for Prediction\n",
      "[1, 1, 0, 2, 1]\n",
      "\n",
      "Histogram for Judge\n",
      "[1, 1, 0, 2, 1]\n",
      "\n",
      "Confusion Matrix\n",
      "[1, 0, 0, 0, 0]\n",
      "[0, 1, 0, 0, 0]\n",
      "[0, 0, 0, 0, 0]\n",
      "[0, 0, 0, 2, 0]\n",
      "[0, 0, 0, 0, 1]\n"
     ]
    }
   ],
   "source": [
    "#Input values for predicitions and human judge.\n",
    "predictions = [1,2,4,4,5] \n",
    "human_judge = [1,2,4,4,5] #Represented along the top of the confusion matrix.\n",
    "\n",
    "print 'Quadratic Weight Kappa is {:.2f}'.format(qwk.quadratic_weighted_kappa(predictions, human_judge))\n",
    "\n",
    "#Show the histograms.\n",
    "print '\\nHistogram for Prediction'\n",
    "print qwk.histogram(predictions)\n",
    "print '\\nHistogram for Judge'\n",
    "print qwk.histogram(human_judge)\n",
    "\n",
    "print '\\nConfusion Matrix'\n",
    "cm = qwk.confusion_matrix(predictions, human_judge)\n",
    "for row in cm:\n",
    "    print row\n"
   ]
  },
  {
   "cell_type": "code",
   "execution_count": null,
   "metadata": {
    "collapsed": true
   },
   "outputs": [],
   "source": []
  }
 ],
 "metadata": {
  "kernelspec": {
   "display_name": "Python 2",
   "language": "python",
   "name": "python2"
  },
  "language_info": {
   "codemirror_mode": {
    "name": "ipython",
    "version": 2
   },
   "file_extension": ".py",
   "mimetype": "text/x-python",
   "name": "python",
   "nbconvert_exporter": "python",
   "pygments_lexer": "ipython2",
   "version": "2.7.12"
  }
 },
 "nbformat": 4,
 "nbformat_minor": 0
}
